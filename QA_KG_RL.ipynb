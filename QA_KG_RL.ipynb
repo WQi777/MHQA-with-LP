{
  "nbformat": 4,
  "nbformat_minor": 0,
  "metadata": {
    "colab": {
      "name": "QA-KG-RL.ipynb",
      "version": "0.3.2",
      "provenance": [],
      "collapsed_sections": [],
      "include_colab_link": true
    },
    "kernelspec": {
      "name": "python3",
      "display_name": "Python 3"
    },
    "accelerator": "GPU"
  },
  "cells": [
    {
      "cell_type": "markdown",
      "metadata": {
        "id": "view-in-github",
        "colab_type": "text"
      },
      "source": [
        "<a href=\"https://colab.research.google.com/github/yg-li/QA-KG-RL/blob/master/QA_KG_RL.ipynb\" target=\"_parent\"><img src=\"https://colab.research.google.com/assets/colab-badge.svg\" alt=\"Open In Colab\"/></a>"
      ]
    },
    {
      "cell_type": "code",
      "metadata": {
        "id": "cQuAXdFMMZ15",
        "colab_type": "code",
        "colab": {}
      },
      "source": [
        "!pip install --no-cache-dir torch-scatter torch-sparse torch-cluster\n",
        "!pip install torch-geometric\n",
        "\n",
        "!pip uninstall -y spacy\n",
        "!pip install spacy==2.1.3\n",
        "# !spacy download en_core_web_lg\n",
        "!pip install neuralcoref"
      ],
      "execution_count": 0,
      "outputs": []
    },
    {
      "cell_type": "code",
      "metadata": {
        "id": "EZCwquLR9VM1",
        "colab_type": "code",
        "colab": {}
      },
      "source": [
        "import os\n",
        "import json\n",
        "import itertools\n",
        "import re\n",
        "\n",
        "import spacy\n",
        "nlp = spacy.load(\"en_core_web_sm\")\n",
        "# import en_core_web_lg\n",
        "# nlp = en_core_web_lg.load()\n",
        "import neuralcoref\n",
        "neuralcoref.add_to_pipe(nlp)\n",
        "\n",
        "import networkx as nx\n",
        "import torch\n",
        "from torch_geometric.data import Data"
      ],
      "execution_count": 0,
      "outputs": []
    },
    {
      "cell_type": "code",
      "metadata": {
        "id": "FsXK61rj08Lp",
        "colab_type": "code",
        "colab": {}
      },
      "source": [
        "# mount Google Drive\n",
        "from google.colab import drive\n",
        "drive.mount('/gdrive')\n",
        "data_path = '/gdrive/My Drive/Colab Notebooks/CSML/Project/data/qangaroo_v1.1/wikihop'\n",
        "\n",
        "# read in QAngaroo WikiHop\n",
        "with open(os.path.join(data_path, 'dev.json')) as f:\n",
        "  src = json.loads(f.read())"
      ],
      "execution_count": 0,
      "outputs": []
    },
    {
      "cell_type": "markdown",
      "metadata": {
        "id": "labw0S-477BQ",
        "colab_type": "text"
      },
      "source": [
        "## Build Graph"
      ]
    },
    {
      "cell_type": "code",
      "metadata": {
        "id": "KB7dmhbp9KyH",
        "colab_type": "code",
        "colab": {}
      },
      "source": [
        "instance = 0\n",
        "\n",
        "query = src[instance].get('query')\n",
        "docs = [nlp(text.lower()) for text in src[instance].get('supports')]\n",
        "cands = src[instance].get('candidates')\n",
        "cands = dict(zip(cands, range(len(cands))))\n",
        "answer = src[instance].get('answer')"
      ],
      "execution_count": 0,
      "outputs": []
    },
    {
      "cell_type": "code",
      "metadata": {
        "id": "eNlYjuYVhoaH",
        "colab_type": "code",
        "colab": {}
      },
      "source": [
        "def build_entity_graph(cands, docs):\n",
        "  ''' build the entity graph used in Entity-GCN\n",
        "  Args:\n",
        "    cands: candidates \\\\ list[str]\n",
        "    docs: spacy annotated documents \\\\ list[Doc]\n",
        "  Returns:\n",
        "    nodes: nodes of the graph \\\\ dict{id : candidate name}\n",
        "    doc_based_edges: edges that connect mentions in the same document \\\\ set((node1, node2))\n",
        "    match_edges: edges that connect exact match \\\\ set((node1, node2))\n",
        "    coref_edges: edges that connect mentions in the same coreference chain \n",
        "                 \\\\ set((node1, node2))\n",
        "    compl_edges: edges that connect all nodes that have not been connected by \n",
        "                 any other types of edges \\\\ set((node1, node2))\n",
        "  ''' \n",
        "  nodes = {}\n",
        "  with_edges = set()\n",
        "  \n",
        "  doc_based_edges = set()\n",
        "  match_edges = set()\n",
        "  coref_edges = set()\n",
        "  compl_edges = set()\n",
        "  \n",
        "  # accumulate nodes, add the doc_based & coreference edges\n",
        "  for doc in docs:\n",
        "    coref_clusters = [[m.text for m in c.mentions] for c in doc._.coref_clusters]\n",
        "    text = doc.text\n",
        "    doc_tmp = set()\n",
        "    coref_tmps = [set()] * len(coref_clusters)\n",
        "    for cand in cands:\n",
        "      matches = re.findall(r'\\b%s\\b' % cand, text)\n",
        "      new_nodes = range(len(nodes), len(nodes)+len(matches))\n",
        "      doc_tmp.update(new_nodes)\n",
        "      nodes.update(dict(zip(new_nodes, [cand]*len(matches))))\n",
        "      \n",
        "      for cluster, i in zip(coref_clusters, range(len(coref_clusters))):\n",
        "        if cand in cluster:\n",
        "          coref_tmps[i].update(new_nodes)\n",
        "          \n",
        "    for pair in itertools.combinations(doc_tmp, 2):\n",
        "      doc_based_edges.add(pair)\n",
        "      with_edges.update(pair)\n",
        "    for coref_tmp in coref_tmps:\n",
        "      for pair in itertools.combinations(coref_tmp, 2):\n",
        "        coref_edges.add(pair)\n",
        "        with_edges.update(pair)\n",
        "      \n",
        "  # add exact match edges\n",
        "  for i, j in itertools.combinations(nodes, 2):\n",
        "    if nodes[i] == nodes[j]:\n",
        "      match_edges.add((i,j))\n",
        "      with_edges.update((i,j))\n",
        "      \n",
        "  # add complement edges\n",
        "  isolated_nodes = set(nodes) - with_edges\n",
        "  if isolated_nodes:\n",
        "    for pair in itertools.combinations(isolated_nodes, 2):\n",
        "      compl_edges.add(pair)\n",
        "      \n",
        "  return nodes, doc_based_edges, match_edges, coref_edges, compl_edges"
      ],
      "execution_count": 0,
      "outputs": []
    },
    {
      "cell_type": "code",
      "metadata": {
        "id": "XzAWZ6CIgj0B",
        "colab_type": "code",
        "colab": {}
      },
      "source": [
        "nodes, doc_based_edges, match_edges, coref_edges, compl_edges = build_entity_graph(cands, docs)"
      ],
      "execution_count": 0,
      "outputs": []
    },
    {
      "cell_type": "code",
      "metadata": {
        "id": "AmQU5v_79fEQ",
        "colab_type": "code",
        "colab": {}
      },
      "source": [
        ""
      ],
      "execution_count": 0,
      "outputs": []
    }
  ]
}